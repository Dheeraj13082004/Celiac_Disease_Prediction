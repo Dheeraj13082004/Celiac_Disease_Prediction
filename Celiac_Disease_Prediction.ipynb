{
  "metadata": {
    "kernelspec": {
      "language": "python",
      "display_name": "Python 3",
      "name": "python3"
    },
    "language_info": {
      "name": "python",
      "version": "3.10.13",
      "mimetype": "text/x-python",
      "codemirror_mode": {
        "name": "ipython",
        "version": 3
      },
      "pygments_lexer": "ipython3",
      "nbconvert_exporter": "python",
      "file_extension": ".py"
    },
    "kaggle": {
      "accelerator": "none",
      "dataSources": [
        {
          "sourceId": 5226711,
          "sourceType": "datasetVersion",
          "datasetId": 3025095
        }
      ],
      "dockerImageVersionId": 30698,
      "isInternetEnabled": true,
      "language": "python",
      "sourceType": "notebook",
      "isGpuEnabled": false
    },
    "colab": {
      "name": "Celiac Disease Prediction",
      "provenance": [],
      "include_colab_link": true
    }
  },
  "nbformat_minor": 0,
  "nbformat": 4,
  "cells": [
    {
      "cell_type": "markdown",
      "metadata": {
        "id": "view-in-github",
        "colab_type": "text"
      },
      "source": [
        "<a href=\"https://colab.research.google.com/github/Dheeraj13082004/Celiac_Disease_Prediction/blob/main/Celiac_Disease_Prediction.ipynb\" target=\"_parent\"><img src=\"https://colab.research.google.com/assets/colab-badge.svg\" alt=\"Open In Colab\"/></a>"
      ]
    },
    {
      "source": [
        "\n",
        "# IMPORTANT: RUN THIS CELL IN ORDER TO IMPORT YOUR KAGGLE DATA SOURCES\n",
        "# TO THE CORRECT LOCATION (/kaggle/input) IN YOUR NOTEBOOK,\n",
        "# THEN FEEL FREE TO DELETE THIS CELL.\n",
        "# NOTE: THIS NOTEBOOK ENVIRONMENT DIFFERS FROM KAGGLE'S PYTHON\n",
        "# ENVIRONMENT SO THERE MAY BE MISSING LIBRARIES USED BY YOUR\n",
        "# NOTEBOOK.\n",
        "\n",
        "import os\n",
        "import sys\n",
        "from tempfile import NamedTemporaryFile\n",
        "from urllib.request import urlopen\n",
        "from urllib.parse import unquote, urlparse\n",
        "from urllib.error import HTTPError\n",
        "from zipfile import ZipFile\n",
        "import tarfile\n",
        "import shutil\n",
        "\n",
        "CHUNK_SIZE = 40960\n",
        "DATA_SOURCE_MAPPING = 'celiac-disease-coeliac-disease:https%3A%2F%2Fstorage.googleapis.com%2Fkaggle-data-sets%2F3025095%2F5226711%2Fbundle%2Farchive.zip%3FX-Goog-Algorithm%3DGOOG4-RSA-SHA256%26X-Goog-Credential%3Dgcp-kaggle-com%2540kaggle-161607.iam.gserviceaccount.com%252F20240422%252Fauto%252Fstorage%252Fgoog4_request%26X-Goog-Date%3D20240422T105446Z%26X-Goog-Expires%3D259200%26X-Goog-SignedHeaders%3Dhost%26X-Goog-Signature%3D49573a232369e3b045571a8d209bef78a0c8515dc4373abeabe511f1afa12f6aa09e12a1653e717b28703f2e8d6e3a18745ee8b10f5edc85256a4a62fd88768c0a2028e62acb44e2123b17ba9dcce1f420d7f067d31617acfcddc10e391f095ebd894b917bf7e17da016d974688500f88c9c6c821870d8499aa0ef0440d393d8f08b3063fdb8b21cf089c3dc552977c72be963d4f6601d7fe1ad678c9f71fe5bbc06e8c89ed607ff7e80d7cef550d8d7090da1fe352b4427fe37454c29927116484e25af6418e0adf7775ff2927e72d2668d1b565c3bdc98404baad2f6b719afa1d3d1c5986338efe805f1e917088fde202a47556d15978ef2d4548bbc5cad8e'\n",
        "\n",
        "KAGGLE_INPUT_PATH='/kaggle/input'\n",
        "KAGGLE_WORKING_PATH='/kaggle/working'\n",
        "KAGGLE_SYMLINK='kaggle'\n",
        "\n",
        "!umount /kaggle/input/ 2> /dev/null\n",
        "shutil.rmtree('/kaggle/input', ignore_errors=True)\n",
        "os.makedirs(KAGGLE_INPUT_PATH, 0o777, exist_ok=True)\n",
        "os.makedirs(KAGGLE_WORKING_PATH, 0o777, exist_ok=True)\n",
        "\n",
        "try:\n",
        "  os.symlink(KAGGLE_INPUT_PATH, os.path.join(\"..\", 'input'), target_is_directory=True)\n",
        "except FileExistsError:\n",
        "  pass\n",
        "try:\n",
        "  os.symlink(KAGGLE_WORKING_PATH, os.path.join(\"..\", 'working'), target_is_directory=True)\n",
        "except FileExistsError:\n",
        "  pass\n",
        "\n",
        "for data_source_mapping in DATA_SOURCE_MAPPING.split(','):\n",
        "    directory, download_url_encoded = data_source_mapping.split(':')\n",
        "    download_url = unquote(download_url_encoded)\n",
        "    filename = urlparse(download_url).path\n",
        "    destination_path = os.path.join(KAGGLE_INPUT_PATH, directory)\n",
        "    try:\n",
        "        with urlopen(download_url) as fileres, NamedTemporaryFile() as tfile:\n",
        "            total_length = fileres.headers['content-length']\n",
        "            print(f'Downloading {directory}, {total_length} bytes compressed')\n",
        "            dl = 0\n",
        "            data = fileres.read(CHUNK_SIZE)\n",
        "            while len(data) > 0:\n",
        "                dl += len(data)\n",
        "                tfile.write(data)\n",
        "                done = int(50 * dl / int(total_length))\n",
        "                sys.stdout.write(f\"\\r[{'=' * done}{' ' * (50-done)}] {dl} bytes downloaded\")\n",
        "                sys.stdout.flush()\n",
        "                data = fileres.read(CHUNK_SIZE)\n",
        "            if filename.endswith('.zip'):\n",
        "              with ZipFile(tfile) as zfile:\n",
        "                zfile.extractall(destination_path)\n",
        "            else:\n",
        "              with tarfile.open(tfile.name) as tarfile:\n",
        "                tarfile.extractall(destination_path)\n",
        "            print(f'\\nDownloaded and uncompressed: {directory}')\n",
        "    except HTTPError as e:\n",
        "        print(f'Failed to load (likely expired) {download_url} to path {destination_path}')\n",
        "        continue\n",
        "    except OSError as e:\n",
        "        print(f'Failed to load {download_url} to path {destination_path}')\n",
        "        continue\n",
        "\n",
        "print('Data source import complete.')\n"
      ],
      "metadata": {
        "id": "Vs6pO477tzgU"
      },
      "cell_type": "code",
      "outputs": [],
      "execution_count": null
    },
    {
      "cell_type": "code",
      "source": [
        "# This Python 3 environment comes with many helpful analytics libraries installed\n",
        "# It is defined by the kaggle/python Docker image: https://github.com/kaggle/docker-python\n",
        "# For example, here's several helpful packages to load\n",
        "\n",
        "import numpy as np # linear algebra\n",
        "import pandas as pd # data processing, CSV file I/O (e.g. pd.read_csv)\n",
        "\n",
        "# Input data files are available in the read-only \"../input/\" directory\n",
        "# For example, running this (by clicking run or pressing Shift+Enter) will list all files under the input directory\n",
        "\n",
        "import os\n",
        "for dirname, _, filenames in os.walk('/kaggle/input'):\n",
        "    for filename in filenames:\n",
        "        print(os.path.join(dirname, filename))\n",
        "\n",
        "# You can write up to 20GB to the current directory (/kaggle/working/) that gets preserved as output when you create a version using \"Save & Run All\"\n",
        "# You can also write temporary files to /kaggle/temp/, but they won't be saved outside of the current session"
      ],
      "metadata": {
        "_uuid": "8f2839f25d086af736a60e9eeb907d3b93b6e0e5",
        "_cell_guid": "b1076dfc-b9ad-4769-8c92-a6c4dae69d19",
        "execution": {
          "iopub.status.busy": "2024-04-21T22:11:48.432002Z",
          "iopub.execute_input": "2024-04-21T22:11:48.432403Z",
          "iopub.status.idle": "2024-04-21T22:11:48.441201Z",
          "shell.execute_reply.started": "2024-04-21T22:11:48.432372Z",
          "shell.execute_reply": "2024-04-21T22:11:48.439799Z"
        },
        "trusted": true,
        "id": "kC_Ad0yOtzgU"
      },
      "execution_count": null,
      "outputs": []
    },
    {
      "cell_type": "markdown",
      "source": [
        "## Import Libraries"
      ],
      "metadata": {
        "id": "WQzt3OHJtzgU"
      }
    },
    {
      "cell_type": "code",
      "source": [
        "import numpy as np\n",
        "import pandas as pd\n",
        "import matplotlib.pyplot as plt\n",
        "import seaborn as sns\n",
        "from sklearn.preprocessing import LabelEncoder\n",
        "from sklearn.model_selection import train_test_split\n",
        "from sklearn.ensemble import RandomForestClassifier\n",
        "from sklearn.metrics import accuracy_score"
      ],
      "metadata": {
        "execution": {
          "iopub.status.busy": "2024-04-21T22:48:47.732134Z",
          "iopub.execute_input": "2024-04-21T22:48:47.732545Z",
          "iopub.status.idle": "2024-04-21T22:48:47.739679Z",
          "shell.execute_reply.started": "2024-04-21T22:48:47.732512Z",
          "shell.execute_reply": "2024-04-21T22:48:47.738557Z"
        },
        "trusted": true,
        "id": "gemSWYYAtzgV"
      },
      "execution_count": null,
      "outputs": []
    },
    {
      "cell_type": "markdown",
      "source": [
        "## Working on data"
      ],
      "metadata": {
        "id": "zmzG1EsZtzgV"
      }
    },
    {
      "cell_type": "code",
      "source": [
        "df=pd.read_csv(\"/kaggle/input/celiac-disease-coeliac-disease/celiac_disease_lab_data.csv\")\n",
        "print(3*\"\\n\",40*\"=\",\"First 15 instances\",40*\"=\")\n",
        "display(df.head(15))\n",
        "print(3*\"\\n\",40*\"=\",\"Information about data\",40*\"=\")\n",
        "display(df.info())\n",
        "print(3*\"\\n\",40*\"=\",\"Data set shape\",40*\"=\")\n",
        "print(df.shape)"
      ],
      "metadata": {
        "execution": {
          "iopub.status.busy": "2024-04-21T22:35:53.304807Z",
          "iopub.execute_input": "2024-04-21T22:35:53.305874Z",
          "iopub.status.idle": "2024-04-21T22:35:53.359101Z",
          "shell.execute_reply.started": "2024-04-21T22:35:53.305837Z",
          "shell.execute_reply": "2024-04-21T22:35:53.358048Z"
        },
        "trusted": true,
        "id": "IjIdTFLJtzgV"
      },
      "execution_count": null,
      "outputs": []
    },
    {
      "cell_type": "markdown",
      "source": [
        "## Handling Duplicated Data"
      ],
      "metadata": {
        "id": "TO7vLCFotzgV"
      }
    },
    {
      "cell_type": "code",
      "source": [
        "print(df.duplicated().sum())"
      ],
      "metadata": {
        "execution": {
          "iopub.status.busy": "2024-04-21T22:35:56.414563Z",
          "iopub.execute_input": "2024-04-21T22:35:56.414948Z",
          "iopub.status.idle": "2024-04-21T22:35:56.426032Z",
          "shell.execute_reply.started": "2024-04-21T22:35:56.414917Z",
          "shell.execute_reply": "2024-04-21T22:35:56.424805Z"
        },
        "trusted": true,
        "id": "dwicpQtOtzgV"
      },
      "execution_count": null,
      "outputs": []
    },
    {
      "cell_type": "code",
      "source": [
        "df.drop_duplicates(inplace=True)\n",
        "print(df.shape)"
      ],
      "metadata": {
        "execution": {
          "iopub.status.busy": "2024-04-21T22:35:57.124681Z",
          "iopub.execute_input": "2024-04-21T22:35:57.125718Z",
          "iopub.status.idle": "2024-04-21T22:35:57.135176Z",
          "shell.execute_reply.started": "2024-04-21T22:35:57.12567Z",
          "shell.execute_reply": "2024-04-21T22:35:57.134422Z"
        },
        "trusted": true,
        "id": "1ffm6ClStzgV"
      },
      "execution_count": null,
      "outputs": []
    },
    {
      "cell_type": "markdown",
      "source": [
        "## Handling Null Values"
      ],
      "metadata": {
        "id": "JOjl4I8WtzgV"
      }
    },
    {
      "cell_type": "code",
      "source": [
        "print(df.isnull().sum())"
      ],
      "metadata": {
        "execution": {
          "iopub.status.busy": "2024-04-21T22:35:59.137618Z",
          "iopub.execute_input": "2024-04-21T22:35:59.13831Z",
          "iopub.status.idle": "2024-04-21T22:35:59.146412Z",
          "shell.execute_reply.started": "2024-04-21T22:35:59.138276Z",
          "shell.execute_reply": "2024-04-21T22:35:59.145146Z"
        },
        "trusted": true,
        "id": "JjFuIzSXtzgW"
      },
      "execution_count": null,
      "outputs": []
    },
    {
      "cell_type": "markdown",
      "source": [
        "**If Diabetes answer is no so there is no type for diabetes so will assign value type 0**"
      ],
      "metadata": {
        "id": "6rXBtHPctzgW"
      }
    },
    {
      "cell_type": "code",
      "source": [
        "df[\"Diabetes Type\"].fillna(\"Type 0\",inplace=True)\n",
        "display(df.head(15))"
      ],
      "metadata": {
        "execution": {
          "iopub.status.busy": "2024-04-21T22:36:00.77604Z",
          "iopub.execute_input": "2024-04-21T22:36:00.776404Z",
          "iopub.status.idle": "2024-04-21T22:36:00.805346Z",
          "shell.execute_reply.started": "2024-04-21T22:36:00.776376Z",
          "shell.execute_reply": "2024-04-21T22:36:00.80449Z"
        },
        "trusted": true,
        "id": "14UhTc_ftzgW"
      },
      "execution_count": null,
      "outputs": []
    },
    {
      "cell_type": "markdown",
      "source": [
        "## Data encoding"
      ],
      "metadata": {
        "id": "5QHcJzWYtzgW"
      }
    },
    {
      "cell_type": "code",
      "source": [
        "print(df.dtypes)"
      ],
      "metadata": {
        "execution": {
          "iopub.status.busy": "2024-04-21T22:36:05.208272Z",
          "iopub.execute_input": "2024-04-21T22:36:05.209055Z",
          "iopub.status.idle": "2024-04-21T22:36:05.215557Z",
          "shell.execute_reply.started": "2024-04-21T22:36:05.209017Z",
          "shell.execute_reply": "2024-04-21T22:36:05.214359Z"
        },
        "trusted": true,
        "id": "Z6ff-HqYtzgW"
      },
      "execution_count": null,
      "outputs": []
    },
    {
      "cell_type": "code",
      "source": [
        "encode=LabelEncoder()\n",
        "df[\"Gender\"]=encode.fit_transform(df[\"Gender\"])\n",
        "df[\"Diabetes\"]=encode.fit_transform(df[\"Diabetes\"])\n",
        "df[\"Diabetes Type\"]=encode.fit_transform(df[\"Diabetes Type\"])\n",
        "df[\"Diarrhoea\"]=encode.fit_transform(df[\"Diarrhoea\"])\n",
        "df[\"Abdominal\"]=encode.fit_transform(df[\"Abdominal\"])\n",
        "df[\"Short_Stature\"]=encode.fit_transform(df[\"Short_Stature\"])\n",
        "df[\"Sticky_Stool\"]=encode.fit_transform(df[\"Sticky_Stool\"])\n",
        "df[\"Weight_loss\"]=encode.fit_transform(df[\"Weight_loss\"])\n",
        "df[\"Marsh\"]=encode.fit_transform(df[\"Marsh\"])\n",
        "df[\"cd_type\"]=encode.fit_transform(df[\"cd_type\"])\n",
        "df[\"Disease_Diagnose\"]=encode.fit_transform(df[\"Disease_Diagnose\"])\n",
        "print(df.dtypes)"
      ],
      "metadata": {
        "execution": {
          "iopub.status.busy": "2024-04-21T22:36:06.735142Z",
          "iopub.execute_input": "2024-04-21T22:36:06.736042Z",
          "iopub.status.idle": "2024-04-21T22:36:06.756661Z",
          "shell.execute_reply.started": "2024-04-21T22:36:06.735997Z",
          "shell.execute_reply": "2024-04-21T22:36:06.755894Z"
        },
        "trusted": true,
        "id": "w4ljVlrKtzgW"
      },
      "execution_count": null,
      "outputs": []
    },
    {
      "cell_type": "markdown",
      "source": [
        "## Data Visualization"
      ],
      "metadata": {
        "id": "ujiAE353tzgX"
      }
    },
    {
      "cell_type": "markdown",
      "source": [
        "**Show distribution of data**"
      ],
      "metadata": {
        "id": "pAcLjcurtzgX"
      }
    },
    {
      "cell_type": "code",
      "source": [
        "sns.pairplot(df)\n",
        "plt.show()"
      ],
      "metadata": {
        "execution": {
          "iopub.status.busy": "2024-04-21T22:36:10.716433Z",
          "iopub.execute_input": "2024-04-21T22:36:10.716816Z",
          "iopub.status.idle": "2024-04-21T22:37:35.824174Z",
          "shell.execute_reply.started": "2024-04-21T22:36:10.716787Z",
          "shell.execute_reply": "2024-04-21T22:37:35.822919Z"
        },
        "trusted": true,
        "id": "v_1f1KeQtzgX"
      },
      "execution_count": null,
      "outputs": []
    },
    {
      "cell_type": "markdown",
      "source": [
        "**HeatMap to show correlation**"
      ],
      "metadata": {
        "id": "4SQgUpk_tzgX"
      }
    },
    {
      "cell_type": "code",
      "source": [
        "plt.subplots(figsize=(10,10))\n",
        "sns.heatmap(df.corr(),annot=True)\n",
        "plt.show()"
      ],
      "metadata": {
        "execution": {
          "iopub.status.busy": "2024-04-21T22:11:48.681446Z",
          "iopub.execute_input": "2024-04-21T22:11:48.682029Z",
          "iopub.status.idle": "2024-04-21T22:11:49.784984Z"
        },
        "trusted": true,
        "id": "RWXeRNUztzgX"
      },
      "execution_count": null,
      "outputs": []
    },
    {
      "cell_type": "markdown",
      "source": [
        "## Working on Features"
      ],
      "metadata": {
        "id": "r9jeneMStzgX"
      }
    },
    {
      "cell_type": "code",
      "source": [
        "Features=df.iloc[:,:-1]\n",
        "Target=df.iloc[:,-1]"
      ],
      "metadata": {
        "execution": {
          "iopub.status.busy": "2024-04-21T22:48:11.371146Z",
          "iopub.execute_input": "2024-04-21T22:48:11.371634Z",
          "iopub.status.idle": "2024-04-21T22:48:11.379584Z",
          "shell.execute_reply.started": "2024-04-21T22:48:11.371595Z",
          "shell.execute_reply": "2024-04-21T22:48:11.378264Z"
        },
        "trusted": true,
        "id": "Csb0m6YgtzgX"
      },
      "execution_count": null,
      "outputs": []
    },
    {
      "cell_type": "markdown",
      "source": [
        "- Drop Diabetes becauese if answer yes Diabetes type will be Type 1 or Type 2\n",
        "  if answer was no Diabetes type will be Type 0 so we can replace Diabetes with Diabetes type\n",
        "  \n",
        "- Drop  Diarrhoea ,IgA ,IgG ,and IgM based on heatmap that show correlation"
      ],
      "metadata": {
        "id": "B9czvnOltzgY"
      }
    },
    {
      "cell_type": "code",
      "source": [
        "Features.drop([\"Diabetes\",\"Diarrhoea\",\"IgA\",\"IgG\",\"IgM\"],axis=1,inplace=True)"
      ],
      "metadata": {
        "execution": {
          "iopub.status.busy": "2024-04-21T22:48:12.81472Z",
          "iopub.execute_input": "2024-04-21T22:48:12.815982Z",
          "iopub.status.idle": "2024-04-21T22:48:12.822622Z",
          "shell.execute_reply.started": "2024-04-21T22:48:12.815938Z",
          "shell.execute_reply": "2024-04-21T22:48:12.821335Z"
        },
        "trusted": true,
        "id": "4X_yjNLttzgY"
      },
      "execution_count": null,
      "outputs": []
    },
    {
      "cell_type": "code",
      "source": [
        "Features_train,Features_test,Target_train,Target_test=train_test_split(Features,Target,train_size=0.75,random_state=21)"
      ],
      "metadata": {
        "execution": {
          "iopub.status.busy": "2024-04-21T22:48:14.846474Z",
          "iopub.execute_input": "2024-04-21T22:48:14.846919Z",
          "iopub.status.idle": "2024-04-21T22:48:14.856858Z",
          "shell.execute_reply.started": "2024-04-21T22:48:14.84688Z",
          "shell.execute_reply": "2024-04-21T22:48:14.855513Z"
        },
        "trusted": true,
        "id": "m0e_gS0ntzgY"
      },
      "execution_count": null,
      "outputs": []
    },
    {
      "cell_type": "markdown",
      "source": [
        "## Training Model"
      ],
      "metadata": {
        "id": "QSw5J6tQtzgY"
      }
    },
    {
      "cell_type": "code",
      "source": [
        "Model=RandomForestClassifier(random_state=5,n_estimators=11)\n",
        "Model.fit(Features_train,Target_train)"
      ],
      "metadata": {
        "execution": {
          "iopub.status.busy": "2024-04-21T22:48:17.686955Z",
          "iopub.execute_input": "2024-04-21T22:48:17.687344Z",
          "iopub.status.idle": "2024-04-21T22:48:17.727689Z",
          "shell.execute_reply.started": "2024-04-21T22:48:17.687315Z",
          "shell.execute_reply": "2024-04-21T22:48:17.726569Z"
        },
        "trusted": true,
        "id": "qjLXehGFtzgY"
      },
      "execution_count": null,
      "outputs": []
    },
    {
      "cell_type": "code",
      "source": [
        "print(f\"Accurcy of training = {Model.score(Features_train,Target_train)*100:.2f}\\nAccurcy of testing = {Model.score(Features_test,Target_test)*100:.2f}\")"
      ],
      "metadata": {
        "execution": {
          "iopub.status.busy": "2024-04-21T22:48:18.758955Z",
          "iopub.execute_input": "2024-04-21T22:48:18.759325Z",
          "iopub.status.idle": "2024-04-21T22:48:18.773674Z",
          "shell.execute_reply.started": "2024-04-21T22:48:18.759296Z",
          "shell.execute_reply": "2024-04-21T22:48:18.772482Z"
        },
        "trusted": true,
        "id": "7wdviJBetzgY"
      },
      "execution_count": null,
      "outputs": []
    },
    {
      "cell_type": "code",
      "source": [
        "Prediction=Model.predict(Features)\n",
        "score=accuracy_score(Target,Prediction)\n",
        "print(f\"Accurucy of our model = {score*100:.2f}\")"
      ],
      "metadata": {
        "execution": {
          "iopub.status.busy": "2024-04-21T22:48:21.62388Z",
          "iopub.execute_input": "2024-04-21T22:48:21.624261Z",
          "iopub.status.idle": "2024-04-21T22:48:21.637061Z",
          "shell.execute_reply.started": "2024-04-21T22:48:21.624231Z",
          "shell.execute_reply": "2024-04-21T22:48:21.635979Z"
        },
        "trusted": true,
        "id": "kbjgOl9HtzgY"
      },
      "execution_count": null,
      "outputs": []
    }
  ]
}